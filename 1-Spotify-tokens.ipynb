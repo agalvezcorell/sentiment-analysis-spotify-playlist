{
 "cells": [
  {
   "cell_type": "markdown",
   "id": "round-rebel",
   "metadata": {
    "toc": true
   },
   "source": [
    "<h1>Table of Contents<span class=\"tocSkip\"></span></h1>\n",
    "<div class=\"toc\"><ul class=\"toc-item\"><li><span><a href=\"#0.-Importing\" data-toc-modified-id=\"0.-Importing-1\"><span class=\"toc-item-num\">1&nbsp;&nbsp;</span>0. Importing</a></span></li><li><span><a href=\"#Checking-the-structure-of-the-repo\" data-toc-modified-id=\"Checking-the-structure-of-the-repo-2\"><span class=\"toc-item-num\">2&nbsp;&nbsp;</span>Checking the structure of the repo</a></span></li><li><span><a href=\"#Go-to-the-Spotify-API-site\" data-toc-modified-id=\"Go-to-the-Spotify-API-site-3\"><span class=\"toc-item-num\">3&nbsp;&nbsp;</span>Go to the Spotify API site</a></span></li><li><span><a href=\"#Get-CLIENT_ID-&amp;-CLIENT_SECRET\" data-toc-modified-id=\"Get-CLIENT_ID-&amp;-CLIENT_SECRET-4\"><span class=\"toc-item-num\">4&nbsp;&nbsp;</span>Get CLIENT_ID &amp; CLIENT_SECRET</a></span><ul class=\"toc-item\"><li><span><a href=\"#GET-TOKENS\" data-toc-modified-id=\"GET-TOKENS-4.1\"><span class=\"toc-item-num\">4.1&nbsp;&nbsp;</span>GET TOKENS</a></span></li></ul></li><li><span><a href=\"#Save-token-in-the-.env-file\" data-toc-modified-id=\"Save-token-in-the-.env-file-5\"><span class=\"toc-item-num\">5&nbsp;&nbsp;</span>Save token in the .env file</a></span></li></ul></div>"
   ]
  },
  {
   "cell_type": "markdown",
   "id": "separate-vaccine",
   "metadata": {},
   "source": [
    "![datamad0121](img/datamad0121.png)"
   ]
  },
  {
   "cell_type": "markdown",
   "id": "arranged-november",
   "metadata": {},
   "source": [
    " # <center> 1st goal: obtain Spotify token to make use their API </center>"
   ]
  },
  {
   "cell_type": "markdown",
   "id": "yellow-highway",
   "metadata": {},
   "source": [
    "## Importing"
   ]
  },
  {
   "cell_type": "code",
   "execution_count": null,
   "id": "thorough-hardware",
   "metadata": {},
   "outputs": [],
   "source": [
    "#!brew install tree\n",
    "import os\n",
    "import json\n",
    "import requests\n",
    "from dotenv import load_dotenv\n",
    "load_dotenv()"
   ]
  },
  {
   "cell_type": "markdown",
   "id": "agricultural-division",
   "metadata": {},
   "source": [
    "## Checking the structure of the repo"
   ]
  },
  {
   "cell_type": "code",
   "execution_count": null,
   "id": "painful-progressive",
   "metadata": {},
   "outputs": [],
   "source": [
    "!tree"
   ]
  },
  {
   "cell_type": "markdown",
   "id": "roman-shoulder",
   "metadata": {},
   "source": [
    "## Go to the Spotify API site"
   ]
  },
  {
   "cell_type": "markdown",
   "id": "representative-henry",
   "metadata": {},
   "source": [
    "https://developer.spotify.com/dashboard/applications"
   ]
  },
  {
   "cell_type": "markdown",
   "id": "wired-wisdom",
   "metadata": {},
   "source": [
    "## Get CLIENT_ID & CLIENT_SECRET "
   ]
  },
  {
   "cell_type": "markdown",
   "id": "exciting-viewer",
   "metadata": {},
   "source": [
    "Save them in a `.env` file"
   ]
  },
  {
   "cell_type": "code",
   "execution_count": null,
   "id": "driven-vermont",
   "metadata": {},
   "outputs": [],
   "source": [
    "CLIENT_ID=\"xxx\"\n",
    "CLIENT_SECRET=\"xxx\""
   ]
  },
  {
   "cell_type": "code",
   "execution_count": null,
   "id": "naked-scale",
   "metadata": {},
   "outputs": [],
   "source": [
    "file = open(\".env\", \"a\")\n",
    "file.write(f\"CLIENT_ID={CLIENT_ID}\\n\")\n",
    "file.write(f\"CLIENT_SECRET={CLIENT_SECRET}\\n\")\n",
    "file.close()"
   ]
  },
  {
   "cell_type": "markdown",
   "id": "quantitative-intelligence",
   "metadata": {},
   "source": [
    "### GET TOKENS"
   ]
  },
  {
   "cell_type": "code",
   "execution_count": null,
   "id": "worst-fleece",
   "metadata": {},
   "outputs": [],
   "source": [
    "def spotifyToken():\n",
    "    '''This function makes a request to Spotify to get a token'''\n",
    "    \n",
    "    #Authentication\n",
    "    CLIENT_ID = os.getenv(\"CLIENT_ID\")\n",
    "    CLIENT_SECRET = os.getenv(\"CLIENT_SECRET\")\n",
    "    \n",
    "    #Scope\n",
    "    grant_type = 'client_credentials'\n",
    "    body_params = {'grant_type' : grant_type}\n",
    "    \n",
    "    #Where to ask for the token\n",
    "    url='https://accounts.spotify.com/api/token'\n",
    "    \n",
    "    #The request\n",
    "    response = requests.post(url, data=body_params, auth = (CLIENT_ID, CLIENT_SECRET), verify=False) \n",
    "    \n",
    "    #The token\n",
    "    \n",
    "    token_raw = json.loads(response.text)\n",
    "    try:\n",
    "        token = token_raw['access_token']\n",
    "        return token\n",
    "    except:\n",
    "        return token_raw"
   ]
  },
  {
   "cell_type": "code",
   "execution_count": null,
   "id": "international-helena",
   "metadata": {},
   "outputs": [],
   "source": [
    "spotifyToken()"
   ]
  },
  {
   "cell_type": "markdown",
   "id": "demanding-constitutional",
   "metadata": {},
   "source": [
    "## Save token in the .env file"
   ]
  },
  {
   "cell_type": "code",
   "execution_count": null,
   "id": "ethical-generator",
   "metadata": {},
   "outputs": [],
   "source": [
    "file = open(\".env\", \"a\")\n",
    "file.write(f\"token={spotifyToken()}\")\n",
    "file.close()"
   ]
  },
  {
   "cell_type": "markdown",
   "id": "isolated-opera",
   "metadata": {},
   "source": [
    "# 📚 So far:\n",
    "\n",
    "**What we did**\n",
    "- 1. We got our spotify auth\n",
    "- 2. With that, we then got our spotify `token`\n",
    "- 3. We saved the`token` in the .env <br>\n",
    "<br>\n",
    "\n",
    "**To remember**\n",
    "\n",
    "- **CLIENT_ID** & **CLIENT_SECRET** is just a mean to get the `token`, not the auth itself\n",
    "- The `token`expires"
   ]
  }
 ],
 "metadata": {
  "kernelspec": {
   "display_name": "ironhack",
   "language": "python",
   "name": "ironhack"
  },
  "language_info": {
   "codemirror_mode": {
    "name": "ipython",
    "version": 3
   },
   "file_extension": ".py",
   "mimetype": "text/x-python",
   "name": "python",
   "nbconvert_exporter": "python",
   "pygments_lexer": "ipython3",
   "version": "3.8.5"
  },
  "toc": {
   "base_numbering": 1,
   "nav_menu": {},
   "number_sections": true,
   "sideBar": true,
   "skip_h1_title": true,
   "title_cell": "Table of Contents",
   "title_sidebar": "Contents",
   "toc_cell": true,
   "toc_position": {},
   "toc_section_display": true,
   "toc_window_display": true
  }
 },
 "nbformat": 4,
 "nbformat_minor": 5
}
